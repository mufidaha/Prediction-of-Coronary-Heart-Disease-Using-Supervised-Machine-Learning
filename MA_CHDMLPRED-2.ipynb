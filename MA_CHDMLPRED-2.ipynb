{
  "nbformat": 4,
  "nbformat_minor": 0,
  "metadata": {
    "colab": {
      "provenance": []
    },
    "kernelspec": {
      "name": "python3",
      "display_name": "Python 3"
    },
    "language_info": {
      "name": "python"
    }
  },
  "cells": [
    {
      "cell_type": "markdown",
      "source": [
        "Title: Prediction of Coronary Heart Disease Using Supervised Machine Learning\n",
        "\n",
        "Module 5 Lecture B\n",
        "\n",
        "Objective: To gain hands-on experience applying the different phases of the lifecycle to create several supervised machine learning modules to predict Coronary Heart Disease (CHD\n",
        "\n",
        "\n",
        "\n",
        "    1. Data pre-processing - Raw data importation and dataset preparation"
      ],
      "metadata": {
        "id": "8X5ZAkPavPZs"
      }
    },
    {
      "cell_type": "code",
      "execution_count": null,
      "metadata": {
        "id": "BIP7gmKemu_s"
      },
      "outputs": [],
      "source": [
        "#Type the below code to open your computer folder system\n",
        "# To allow the uploading of the data set"
      ]
    },
    {
      "cell_type": "code",
      "source": [
        "from google.colab import files"
      ],
      "metadata": {
        "id": "ajrVjeJmv8wh"
      },
      "execution_count": null,
      "outputs": []
    },
    {
      "cell_type": "code",
      "source": [
        "#To upload the files or datasets to the colab environment,\n",
        "# type the below python code in the cell"
      ],
      "metadata": {
        "id": "qul4Gn23wDav"
      },
      "execution_count": null,
      "outputs": []
    },
    {
      "cell_type": "code",
      "source": [
        "data_file = files.upload()"
      ],
      "metadata": {
        "colab": {
          "base_uri": "https://localhost:8080/",
          "height": 35
        },
        "id": "12j84RNowZNq",
        "outputId": "314fe8b3-f9fb-49a3-8a95-371b1b568370"
      },
      "execution_count": null,
      "outputs": [
        {
          "output_type": "display_data",
          "data": {
            "text/plain": [
              "<IPython.core.display.HTML object>"
            ],
            "text/html": [
              "\n",
              "     <input type=\"file\" id=\"files-83a5acfd-1d3b-48d7-afae-0dc11b23ba2a\" name=\"files[]\" multiple disabled\n",
              "        style=\"border:none\" />\n",
              "     <output id=\"result-83a5acfd-1d3b-48d7-afae-0dc11b23ba2a\">\n",
              "      Upload widget is only available when the cell has been executed in the\n",
              "      current browser session. Please rerun this cell to enable.\n",
              "      </output>\n",
              "      <script>// Copyright 2017 Google LLC\n",
              "//\n",
              "// Licensed under the Apache License, Version 2.0 (the \"License\");\n",
              "// you may not use this file except in compliance with the License.\n",
              "// You may obtain a copy of the License at\n",
              "//\n",
              "//      http://www.apache.org/licenses/LICENSE-2.0\n",
              "//\n",
              "// Unless required by applicable law or agreed to in writing, software\n",
              "// distributed under the License is distributed on an \"AS IS\" BASIS,\n",
              "// WITHOUT WARRANTIES OR CONDITIONS OF ANY KIND, either express or implied.\n",
              "// See the License for the specific language governing permissions and\n",
              "// limitations under the License.\n",
              "\n",
              "/**\n",
              " * @fileoverview Helpers for google.colab Python module.\n",
              " */\n",
              "(function(scope) {\n",
              "function span(text, styleAttributes = {}) {\n",
              "  const element = document.createElement('span');\n",
              "  element.textContent = text;\n",
              "  for (const key of Object.keys(styleAttributes)) {\n",
              "    element.style[key] = styleAttributes[key];\n",
              "  }\n",
              "  return element;\n",
              "}\n",
              "\n",
              "// Max number of bytes which will be uploaded at a time.\n",
              "const MAX_PAYLOAD_SIZE = 100 * 1024;\n",
              "\n",
              "function _uploadFiles(inputId, outputId) {\n",
              "  const steps = uploadFilesStep(inputId, outputId);\n",
              "  const outputElement = document.getElementById(outputId);\n",
              "  // Cache steps on the outputElement to make it available for the next call\n",
              "  // to uploadFilesContinue from Python.\n",
              "  outputElement.steps = steps;\n",
              "\n",
              "  return _uploadFilesContinue(outputId);\n",
              "}\n",
              "\n",
              "// This is roughly an async generator (not supported in the browser yet),\n",
              "// where there are multiple asynchronous steps and the Python side is going\n",
              "// to poll for completion of each step.\n",
              "// This uses a Promise to block the python side on completion of each step,\n",
              "// then passes the result of the previous step as the input to the next step.\n",
              "function _uploadFilesContinue(outputId) {\n",
              "  const outputElement = document.getElementById(outputId);\n",
              "  const steps = outputElement.steps;\n",
              "\n",
              "  const next = steps.next(outputElement.lastPromiseValue);\n",
              "  return Promise.resolve(next.value.promise).then((value) => {\n",
              "    // Cache the last promise value to make it available to the next\n",
              "    // step of the generator.\n",
              "    outputElement.lastPromiseValue = value;\n",
              "    return next.value.response;\n",
              "  });\n",
              "}\n",
              "\n",
              "/**\n",
              " * Generator function which is called between each async step of the upload\n",
              " * process.\n",
              " * @param {string} inputId Element ID of the input file picker element.\n",
              " * @param {string} outputId Element ID of the output display.\n",
              " * @return {!Iterable<!Object>} Iterable of next steps.\n",
              " */\n",
              "function* uploadFilesStep(inputId, outputId) {\n",
              "  const inputElement = document.getElementById(inputId);\n",
              "  inputElement.disabled = false;\n",
              "\n",
              "  const outputElement = document.getElementById(outputId);\n",
              "  outputElement.innerHTML = '';\n",
              "\n",
              "  const pickedPromise = new Promise((resolve) => {\n",
              "    inputElement.addEventListener('change', (e) => {\n",
              "      resolve(e.target.files);\n",
              "    });\n",
              "  });\n",
              "\n",
              "  const cancel = document.createElement('button');\n",
              "  inputElement.parentElement.appendChild(cancel);\n",
              "  cancel.textContent = 'Cancel upload';\n",
              "  const cancelPromise = new Promise((resolve) => {\n",
              "    cancel.onclick = () => {\n",
              "      resolve(null);\n",
              "    };\n",
              "  });\n",
              "\n",
              "  // Wait for the user to pick the files.\n",
              "  const files = yield {\n",
              "    promise: Promise.race([pickedPromise, cancelPromise]),\n",
              "    response: {\n",
              "      action: 'starting',\n",
              "    }\n",
              "  };\n",
              "\n",
              "  cancel.remove();\n",
              "\n",
              "  // Disable the input element since further picks are not allowed.\n",
              "  inputElement.disabled = true;\n",
              "\n",
              "  if (!files) {\n",
              "    return {\n",
              "      response: {\n",
              "        action: 'complete',\n",
              "      }\n",
              "    };\n",
              "  }\n",
              "\n",
              "  for (const file of files) {\n",
              "    const li = document.createElement('li');\n",
              "    li.append(span(file.name, {fontWeight: 'bold'}));\n",
              "    li.append(span(\n",
              "        `(${file.type || 'n/a'}) - ${file.size} bytes, ` +\n",
              "        `last modified: ${\n",
              "            file.lastModifiedDate ? file.lastModifiedDate.toLocaleDateString() :\n",
              "                                    'n/a'} - `));\n",
              "    const percent = span('0% done');\n",
              "    li.appendChild(percent);\n",
              "\n",
              "    outputElement.appendChild(li);\n",
              "\n",
              "    const fileDataPromise = new Promise((resolve) => {\n",
              "      const reader = new FileReader();\n",
              "      reader.onload = (e) => {\n",
              "        resolve(e.target.result);\n",
              "      };\n",
              "      reader.readAsArrayBuffer(file);\n",
              "    });\n",
              "    // Wait for the data to be ready.\n",
              "    let fileData = yield {\n",
              "      promise: fileDataPromise,\n",
              "      response: {\n",
              "        action: 'continue',\n",
              "      }\n",
              "    };\n",
              "\n",
              "    // Use a chunked sending to avoid message size limits. See b/62115660.\n",
              "    let position = 0;\n",
              "    do {\n",
              "      const length = Math.min(fileData.byteLength - position, MAX_PAYLOAD_SIZE);\n",
              "      const chunk = new Uint8Array(fileData, position, length);\n",
              "      position += length;\n",
              "\n",
              "      const base64 = btoa(String.fromCharCode.apply(null, chunk));\n",
              "      yield {\n",
              "        response: {\n",
              "          action: 'append',\n",
              "          file: file.name,\n",
              "          data: base64,\n",
              "        },\n",
              "      };\n",
              "\n",
              "      let percentDone = fileData.byteLength === 0 ?\n",
              "          100 :\n",
              "          Math.round((position / fileData.byteLength) * 100);\n",
              "      percent.textContent = `${percentDone}% done`;\n",
              "\n",
              "    } while (position < fileData.byteLength);\n",
              "  }\n",
              "\n",
              "  // All done.\n",
              "  yield {\n",
              "    response: {\n",
              "      action: 'complete',\n",
              "    }\n",
              "  };\n",
              "}\n",
              "\n",
              "scope.google = scope.google || {};\n",
              "scope.google.colab = scope.google.colab || {};\n",
              "scope.google.colab._files = {\n",
              "  _uploadFiles,\n",
              "  _uploadFilesContinue,\n",
              "};\n",
              "})(self);\n",
              "</script> "
            ]
          },
          "metadata": {}
        }
      ]
    },
    {
      "cell_type": "code",
      "source": [
        "import pandas as pd # to convert uploaded data into dataframe structures\n",
        "# to facilitate data preparation, transformation, and analysis in Python\n",
        "import numpy as np # Numerical Python, munpy for short,\n",
        "# typically used for scientific computations"
      ],
      "metadata": {
        "id": "lRh37d0oyCxT"
      },
      "execution_count": null,
      "outputs": []
    },
    {
      "cell_type": "code",
      "source": [
        "# Create a computer storage location named, chds,\n",
        "# to store in memory the Coronary Heart Disease dataset\n",
        "# after pandas read raw data and create structures"
      ],
      "metadata": {
        "id": "xlqOWzNyy1P0"
      },
      "execution_count": null,
      "outputs": []
    },
    {
      "cell_type": "code",
      "source": [
        "chds = pd.read_csv('CHD2.csv')"
      ],
      "metadata": {
        "id": "jKORePOPzEGO"
      },
      "execution_count": null,
      "outputs": []
    },
    {
      "cell_type": "code",
      "source": [
        "# when chds is used, Python knows to look for the data associated with that name."
      ],
      "metadata": {
        "id": "1eeQQyG236W1"
      },
      "execution_count": null,
      "outputs": []
    },
    {
      "cell_type": "code",
      "source": [
        "# From now on, you can refer to CHD dataset by its variable name, chds."
      ],
      "metadata": {
        "id": "8jRE7PLF4BR7"
      },
      "execution_count": null,
      "outputs": []
    },
    {
      "cell_type": "code",
      "source": [
        "chds.head() # allows you display the first five rows\n",
        "# or cases or observations to see if the dataset has been sucessfully upload in the Google colab"
      ],
      "metadata": {
        "id": "1uPyTKUM4H9h"
      },
      "execution_count": null,
      "outputs": []
    },
    {
      "cell_type": "code",
      "source": [
        "chds.columns"
      ],
      "metadata": {
        "id": "vKeuU9Bv4uBU"
      },
      "execution_count": null,
      "outputs": []
    },
    {
      "cell_type": "code",
      "source": [
        "#CoronaryDisease column is our target or labelled or outcome variable"
      ],
      "metadata": {
        "id": "Mn7GlXNa5Juy"
      },
      "execution_count": null,
      "outputs": []
    },
    {
      "cell_type": "code",
      "source": [
        "# Focus on CoronaryDisease column to get a count of the number\n",
        "# of patients with CHD and without CHD"
      ],
      "metadata": {
        "id": "kn9OmyC945JZ"
      },
      "execution_count": null,
      "outputs": []
    },
    {
      "cell_type": "code",
      "source": [
        "print(chds.CoronaryDisease.value_counts())"
      ],
      "metadata": {
        "id": "eQEkfO9T5C_c"
      },
      "execution_count": null,
      "outputs": []
    },
    {
      "cell_type": "code",
      "source": [
        "# Above result shows it's imbalanced"
      ],
      "metadata": {
        "id": "W9QcB25S50V5"
      },
      "execution_count": null,
      "outputs": []
    },
    {
      "cell_type": "markdown",
      "source": [
        "2. Data Visualization - Visually explore the attributes of the dataset"
      ],
      "metadata": {
        "id": "UcwyR7Pu59Q1"
      }
    },
    {
      "cell_type": "code",
      "source": [
        "# Plot it to visualize it"
      ],
      "metadata": {
        "id": "G2oyDLm-6Fjm"
      },
      "execution_count": null,
      "outputs": []
    },
    {
      "cell_type": "code",
      "source": [
        "# Import visualization/plot libraries"
      ],
      "metadata": {
        "id": "NWjFb5WW6IdO"
      },
      "execution_count": null,
      "outputs": []
    },
    {
      "cell_type": "code",
      "source": [
        "import matplotlib.pyplot as plt\n",
        "import seaborn as sns"
      ],
      "metadata": {
        "id": "8MONEAnL6M8a"
      },
      "execution_count": null,
      "outputs": []
    },
    {
      "cell_type": "code",
      "source": [
        "# Visualization - Bar plot to visualize the extent to which our target or outcome variable is imbalanced"
      ],
      "metadata": {
        "id": "LWq_qMjx6SzD"
      },
      "execution_count": null,
      "outputs": []
    },
    {
      "cell_type": "code",
      "source": [
        "fig, ax = plt.subplots(figsize=(6,4)) # The width of the figure approximately 6 inches, and its height 4 inches\n",
        "sns.countplot(x= 'CoronaryDisease', data=chds, palette = \"Set1\")\n",
        "_ = plt.title('Coronary Heart Diseasec(CHD) or Not')\n",
        "_ = plt.xlabel('0 = No Coronary Heart Disease, 1 = Coronary Heart Disease')"
      ],
      "metadata": {
        "id": "zxKRGBcw6dKM"
      },
      "execution_count": null,
      "outputs": []
    },
    {
      "cell_type": "code",
      "source": [
        "# Above bar plot shows that the number of patients who have CHD\n",
        "# is about half of the patients who do not have CHD."
      ],
      "metadata": {
        "id": "D7q3M2Df7sOy"
      },
      "execution_count": null,
      "outputs": []
    },
    {
      "cell_type": "code",
      "source": [
        "# This means that our dataset is imbalanced leaning more towards the absence of CHD"
      ],
      "metadata": {
        "id": "i7W4AYQW8KZw"
      },
      "execution_count": null,
      "outputs": []
    },
    {
      "cell_type": "code",
      "source": [
        "chds. info()"
      ],
      "metadata": {
        "id": "2dyRid6W8YiD"
      },
      "execution_count": null,
      "outputs": []
    },
    {
      "cell_type": "code",
      "source": [
        "chds.shape # To give number of rows and columns"
      ],
      "metadata": {
        "id": "DmfX5EwG8fcG"
      },
      "execution_count": null,
      "outputs": []
    },
    {
      "cell_type": "code",
      "source": [
        "chds.dtypes # To display the different data types"
      ],
      "metadata": {
        "id": "cxZXxlP58oWb"
      },
      "execution_count": null,
      "outputs": []
    },
    {
      "cell_type": "markdown",
      "source": [
        "3. Perform descriptive data analysis to summarize the data, visualize and identify outliers, null/blank values"
      ],
      "metadata": {
        "id": "XdNSitV69Jxv"
      }
    },
    {
      "cell_type": "code",
      "source": [
        "# Descriptive Statistics for 10 columns"
      ],
      "metadata": {
        "id": "XQ-taKW_9XeG"
      },
      "execution_count": null,
      "outputs": []
    },
    {
      "cell_type": "code",
      "source": [
        "chds.describe()"
      ],
      "metadata": {
        "id": "xElQBIGa9t2P"
      },
      "execution_count": null,
      "outputs": []
    },
    {
      "cell_type": "code",
      "source": [
        "# Transpose the display using T"
      ],
      "metadata": {
        "id": "PVLXXdSk92MT"
      },
      "execution_count": null,
      "outputs": []
    },
    {
      "cell_type": "code",
      "source": [
        "chds.describe().T"
      ],
      "metadata": {
        "id": "P1wsQihl98mH"
      },
      "execution_count": null,
      "outputs": []
    },
    {
      "cell_type": "code",
      "source": [
        "# Check to see if there are null/blank values or not using IsNull() function"
      ],
      "metadata": {
        "id": "Me0zEPu3CAcI"
      },
      "execution_count": null,
      "outputs": []
    },
    {
      "cell_type": "code",
      "source": [
        "chds.isnull().head(20)"
      ],
      "metadata": {
        "id": "HTJRh8F7-AYI"
      },
      "execution_count": null,
      "outputs": []
    },
    {
      "cell_type": "code",
      "source": [
        "# Let's try to get a count as another check for null/blank values using sum() function"
      ],
      "metadata": {
        "id": "pS5Fbe-V-HGN"
      },
      "execution_count": null,
      "outputs": []
    },
    {
      "cell_type": "code",
      "source": [
        "chds.isnull().sum()"
      ],
      "metadata": {
        "id": "04yPHqiT-R7U"
      },
      "execution_count": null,
      "outputs": []
    },
    {
      "cell_type": "code",
      "source": [
        "# Generate histograms to examine the distributions of the dataset"
      ],
      "metadata": {
        "id": "y3sRCd1B-ZPb"
      },
      "execution_count": null,
      "outputs": []
    },
    {
      "cell_type": "code",
      "source": [
        "p = chds.hist(figsize=(18,18))"
      ],
      "metadata": {
        "id": "L1GFd8uO-gG1"
      },
      "execution_count": null,
      "outputs": []
    },
    {
      "cell_type": "markdown",
      "source": [
        "4. Compute the correlation coefficients between all the features or variables"
      ],
      "metadata": {
        "id": "A7KVt25lA9qf"
      }
    },
    {
      "cell_type": "code",
      "source": [
        "# Calculate the correlation coefficients using seaborn that has been imported above to show heatmap"
      ],
      "metadata": {
        "id": "CsR2AwKs-pD-"
      },
      "execution_count": null,
      "outputs": []
    },
    {
      "cell_type": "code",
      "source": [
        "plt.figure(figsize=(17,10)) # The width of the figure approxiamately 17 inches, and its height 10 inches\n",
        "p = sns.heatmap(chds.corr(), annot=True,cmap = 'YlGnBu')"
      ],
      "metadata": {
        "id": "Yd_X4SGg-1Og"
      },
      "execution_count": null,
      "outputs": []
    },
    {
      "cell_type": "markdown",
      "source": [
        "5. Prepare the dataset for Model Building"
      ],
      "metadata": {
        "id": "SU9d1nfeCaym"
      }
    },
    {
      "cell_type": "code",
      "source": [
        "# Separate Independent variables (X) from Dependent variable (Y) OR Target or Outcome column"
      ],
      "metadata": {
        "id": "00jdkJFACgco"
      },
      "execution_count": null,
      "outputs": []
    },
    {
      "cell_type": "code",
      "source": [
        "# With the below code, drop the CoronaryDisease column that has the label,\n",
        "# aka the dependent variable or the outcome."
      ],
      "metadata": {
        "id": "JpFfisIWCrov"
      },
      "execution_count": null,
      "outputs": []
    },
    {
      "cell_type": "code",
      "source": [
        "X = chds.drop('CoronaryDisease', axis=1) # Create storage location X\n",
        "# to put the remaining columns or the Independent Variables."
      ],
      "metadata": {
        "id": "vQZIb_4NFeVF"
      },
      "execution_count": null,
      "outputs": []
    },
    {
      "cell_type": "code",
      "source": [
        "# The remaining columns which are the independent or predictor variables representing factors that\n",
        "# influence Y (Dependent variable or target or outcome) whether a patient will have CHD or not"
      ],
      "metadata": {
        "id": "8QZXPemSFgGV"
      },
      "execution_count": null,
      "outputs": []
    },
    {
      "cell_type": "code",
      "source": [
        "# Create storage location Y for the Target variable or the dependent variable\n",
        "# that has labels showing whether a patient has CHD or not"
      ],
      "metadata": {
        "id": "1jDcvKD2F_9c"
      },
      "execution_count": null,
      "outputs": []
    },
    {
      "cell_type": "code",
      "source": [
        "Y = chds['CoronaryDisease']"
      ],
      "metadata": {
        "id": "Ci5gexRUGMKH"
      },
      "execution_count": null,
      "outputs": []
    },
    {
      "cell_type": "code",
      "source": [
        "# Import sklearn train_test_split library"
      ],
      "metadata": {
        "id": "itUFdoRKGQpF"
      },
      "execution_count": null,
      "outputs": []
    },
    {
      "cell_type": "code",
      "source": [
        "from sklearn.model_selection import train_test_split"
      ],
      "metadata": {
        "id": "I9AeJ5eZGWk5"
      },
      "execution_count": null,
      "outputs": []
    },
    {
      "cell_type": "markdown",
      "source": [
        "6. Dataset Split into (2) subsets: train (70%) and test (30%). Use the train dataset for training the model, and the test dataset for predictions"
      ],
      "metadata": {
        "id": "odolxnucGfin"
      }
    },
    {
      "cell_type": "code",
      "source": [
        "X_train, X_test, Y_train, Y_test = train_test_split(X, Y, test_size=0.30, random_state=7)"
      ],
      "metadata": {
        "id": "wKeGAnZ6GeKo"
      },
      "execution_count": null,
      "outputs": []
    },
    {
      "cell_type": "code",
      "source": [
        "X_train"
      ],
      "metadata": {
        "id": "RUHr-NKsG7lP"
      },
      "execution_count": null,
      "outputs": []
    },
    {
      "cell_type": "code",
      "source": [
        "X_test"
      ],
      "metadata": {
        "id": "OSMAdnpIHHEU"
      },
      "execution_count": null,
      "outputs": []
    },
    {
      "cell_type": "markdown",
      "source": [
        "7. Conduct model building trying several algorithms: a) Decision Tree, b) Support Vector Machine, c) Random Forest, d) Logistic Regression, e) K-Nearest Neighbors, and f) Xgboost, in accordance with scikit-learn developers (2019)."
      ],
      "metadata": {
        "id": "P7K-y8nlHLnz"
      }
    },
    {
      "cell_type": "code",
      "source": [
        "# a) Use Decision Tree algorithm (nonparametric) to build the predictive model (Rashidi et al., 2019)"
      ],
      "metadata": {
        "id": "Xzmndd-AHKyF"
      },
      "execution_count": null,
      "outputs": []
    },
    {
      "cell_type": "code",
      "source": [
        "# Import relevant sklearn libraries for Decision Tree"
      ],
      "metadata": {
        "id": "kpTF_SKSHsUE"
      },
      "execution_count": null,
      "outputs": []
    },
    {
      "cell_type": "code",
      "source": [
        "from sklearn.tree import DecisionTreeClassifier\n",
        "from sklearn import metrics"
      ],
      "metadata": {
        "id": "rMDJqHnPHwlF"
      },
      "execution_count": null,
      "outputs": []
    },
    {
      "cell_type": "code",
      "source": [
        "dectree = DecisionTreeClassifier()\n",
        "dectree.fit(X_train, Y_train)"
      ],
      "metadata": {
        "id": "B7yCVJrLH2zM"
      },
      "execution_count": null,
      "outputs": []
    },
    {
      "cell_type": "code",
      "source": [
        "# Use below code to obtain Decision Tree accuracy score"
      ],
      "metadata": {
        "id": "cEXl5i6_INRQ"
      },
      "execution_count": null,
      "outputs": []
    },
    {
      "cell_type": "code",
      "source": [
        "dectree_pred = dectree.predict(X_test)"
      ],
      "metadata": {
        "id": "QUJ4fHABIRYJ"
      },
      "execution_count": null,
      "outputs": []
    },
    {
      "cell_type": "code",
      "source": [
        "print(\"Accuracy Score =\", format(metrics.accuracy_score(Y_test,dectree_pred)))"
      ],
      "metadata": {
        "id": "mpNHUHQsIV12"
      },
      "execution_count": null,
      "outputs": []
    },
    {
      "cell_type": "code",
      "source": [
        "# Accuracy is low."
      ],
      "metadata": {
        "id": "OKbuJEruIuqJ"
      },
      "execution_count": null,
      "outputs": []
    },
    {
      "cell_type": "code",
      "source": [
        "# b) Use Support Vector Machine algorithm (nonparametric) to build the predictive model (Rashidi et al., 2019)"
      ],
      "metadata": {
        "id": "jgEUbp_UIw50"
      },
      "execution_count": null,
      "outputs": []
    },
    {
      "cell_type": "code",
      "source": [
        "# Import sklearn support vector machine"
      ],
      "metadata": {
        "id": "2OjfglXEI8QQ"
      },
      "execution_count": null,
      "outputs": []
    },
    {
      "cell_type": "code",
      "source": [
        "from sklearn.svm import SVC"
      ],
      "metadata": {
        "id": "NV5NMzgRI_3i"
      },
      "execution_count": null,
      "outputs": []
    },
    {
      "cell_type": "code",
      "source": [
        "supportv_model = SVC()\n",
        "supportv_model.fit(X_train, Y_train)"
      ],
      "metadata": {
        "id": "rHAFBynxJDll"
      },
      "execution_count": null,
      "outputs": []
    },
    {
      "cell_type": "code",
      "source": [
        "supportv_pred = supportv_model.predict(X_test)"
      ],
      "metadata": {
        "id": "iHPorCnVJTMN"
      },
      "execution_count": null,
      "outputs": []
    },
    {
      "cell_type": "code",
      "source": [
        "print(\"Accuracy Score =\"),format(metrics.accuracy_score(Y_test, supportv_pred))"
      ],
      "metadata": {
        "id": "orKxHPDhJcwb"
      },
      "execution_count": null,
      "outputs": []
    },
    {
      "cell_type": "code",
      "source": [
        "# Accuracy score is better than Decision Tree"
      ],
      "metadata": {
        "id": "RZHA7Ma_Jnes"
      },
      "execution_count": null,
      "outputs": []
    },
    {
      "cell_type": "code",
      "source": [
        "# c) Use Randomforest (nonparametric) to build the predictive model (Rashidi et al., 2019)"
      ],
      "metadata": {
        "id": "1_O5YAG4Jrv-"
      },
      "execution_count": null,
      "outputs": []
    },
    {
      "cell_type": "code",
      "source": [
        "# Import Scikit Learn Randomforest library"
      ],
      "metadata": {
        "id": "AL7_vSQZJ0nt"
      },
      "execution_count": null,
      "outputs": []
    },
    {
      "cell_type": "code",
      "source": [
        "from sklearn.ensemble import RandomForestClassifier"
      ],
      "metadata": {
        "id": "4Zqei9-pJ5e6"
      },
      "execution_count": null,
      "outputs": []
    },
    {
      "cell_type": "code",
      "source": [
        "ranfc = RandomForestClassifier(n_estimators=200)\n",
        "ranfc.fit(X_train, Y_train)"
      ],
      "metadata": {
        "id": "d6wrO5cvJ-_V"
      },
      "execution_count": null,
      "outputs": []
    },
    {
      "cell_type": "code",
      "source": [
        "# Use below code to obtain Randomforest accuracy score on training and test datasets"
      ],
      "metadata": {
        "id": "TfJLnZDCJ9JH"
      },
      "execution_count": null,
      "outputs": []
    },
    {
      "cell_type": "code",
      "source": [
        "ranfc_train = ranfc.predict(X_train)"
      ],
      "metadata": {
        "id": "vnpIzyiUKRa7"
      },
      "execution_count": null,
      "outputs": []
    },
    {
      "cell_type": "code",
      "source": [
        "print(\"Accuracy_Score =\"), format(metrics.accuracy_score(Y_train, ranfc_train))"
      ],
      "metadata": {
        "id": "68JfxP3BKV8z"
      },
      "execution_count": null,
      "outputs": []
    },
    {
      "cell_type": "code",
      "source": [
        "# Accuracy score above indicates overfitting"
      ],
      "metadata": {
        "id": "9zBvjDR4Kedm"
      },
      "execution_count": null,
      "outputs": []
    },
    {
      "cell_type": "code",
      "source": [
        "#Let's use the Test dataset"
      ],
      "metadata": {
        "id": "oxeD2geBKill"
      },
      "execution_count": null,
      "outputs": []
    },
    {
      "cell_type": "code",
      "source": [
        "ranfc_test = ranfc.predict(X_test)"
      ],
      "metadata": {
        "id": "Kj_d9-rrKk01"
      },
      "execution_count": null,
      "outputs": []
    },
    {
      "cell_type": "code",
      "source": [
        "print(\"Accuracy_Score =\"), format(metrics.accuracy_score(Y_test, ranfc_test))"
      ],
      "metadata": {
        "id": "vQP5HulBKm81"
      },
      "execution_count": null,
      "outputs": []
    },
    {
      "cell_type": "code",
      "source": [
        "# d) Use LogisticRegression algorithm (parametric) to build\n",
        "# the predictive model (Rashidi et al., 2019)"
      ],
      "metadata": {
        "id": "_sXa2fzPKuUi"
      },
      "execution_count": null,
      "outputs": []
    },
    {
      "cell_type": "code",
      "source": [
        "from sklearn.linear_model import LogisticRegression\n",
        "import warnings\n",
        "warnings.filterwarnings('ignore')"
      ],
      "metadata": {
        "id": "0SV4JiV8K2tY"
      },
      "execution_count": null,
      "outputs": []
    },
    {
      "cell_type": "code",
      "source": [
        "lrsmodel = LogisticRegression()"
      ],
      "metadata": {
        "id": "G0gWhAIILAB3"
      },
      "execution_count": null,
      "outputs": []
    },
    {
      "cell_type": "code",
      "source": [
        "lrsmodel.fit(X_train, Y_train)\n",
        "lrsmodel.score(X_test, Y_test)"
      ],
      "metadata": {
        "id": "Ltj7QCk6LE1N"
      },
      "execution_count": null,
      "outputs": []
    },
    {
      "cell_type": "code",
      "source": [
        "# With an accuracy score of 0.69, Logistic Regression is the next best model\n",
        "# for predicting Coronary Heart Disease. But it is a parametric algorithm.\n",
        "# Because our data does not appear to have normal distribution,\n",
        "# we can't choose a parametric algorithm like Logistic Regression (Rashidi et al., 2019)"
      ],
      "metadata": {
        "id": "ncGp6oC8LOeR"
      },
      "execution_count": null,
      "outputs": []
    },
    {
      "cell_type": "code",
      "source": [
        "# e) Use K-Nearest Neighbors algorithm (nonparametric)\n",
        "# to build the predicitive model (Rahsidi et al., 2019)"
      ],
      "metadata": {
        "id": "Z70sR_yrLmmt"
      },
      "execution_count": null,
      "outputs": []
    },
    {
      "cell_type": "code",
      "source": [
        "# Import sklearn.neighbors KNeighborsClassifier"
      ],
      "metadata": {
        "id": "dGcGMlO7LxGu"
      },
      "execution_count": null,
      "outputs": []
    },
    {
      "cell_type": "code",
      "source": [
        "from sklearn.neighbors import KNeighborsClassifier"
      ],
      "metadata": {
        "id": "Ld21Beh_L1Lo"
      },
      "execution_count": null,
      "outputs": []
    },
    {
      "cell_type": "code",
      "source": [
        "knneigh = KNeighborsClassifier(n_neighbors=3)\n",
        "knneigh.fit(X_train, Y_train)"
      ],
      "metadata": {
        "id": "ArbfzyptL41i"
      },
      "execution_count": null,
      "outputs": []
    },
    {
      "cell_type": "code",
      "source": [
        "knneigh_pred = knneigh.predict(X_test)"
      ],
      "metadata": {
        "id": "Vof7xxhvMI3Z"
      },
      "execution_count": null,
      "outputs": []
    },
    {
      "cell_type": "code",
      "source": [
        "print(\"Accuracy_Score =\"), format(metrics.accuracy_score(Y_test, knneigh_pred))"
      ],
      "metadata": {
        "id": "Fv3UFr5vMPW9"
      },
      "execution_count": null,
      "outputs": []
    },
    {
      "cell_type": "code",
      "source": [
        "# f) Use XGBClassifier algorithm (nonparametric) to build the predictive model (Rashidi et al., 2019)"
      ],
      "metadata": {
        "id": "Y9rBICbCMcB2"
      },
      "execution_count": null,
      "outputs": []
    },
    {
      "cell_type": "code",
      "source": [
        "from xgboost import XGBClassifier"
      ],
      "metadata": {
        "id": "7DUbmy_LMo7a"
      },
      "execution_count": null,
      "outputs": []
    },
    {
      "cell_type": "code",
      "source": [
        "xgboost_model = XGBClassifier()"
      ],
      "metadata": {
        "id": "ubuZNPYLMtai"
      },
      "execution_count": null,
      "outputs": []
    },
    {
      "cell_type": "code",
      "source": [
        "xgboost_model.fit(X_train, Y_train)"
      ],
      "metadata": {
        "id": "DbvrlQjBMyvd"
      },
      "execution_count": null,
      "outputs": []
    },
    {
      "cell_type": "code",
      "source": [
        "# Use test dataset to make predicitions"
      ],
      "metadata": {
        "id": "tGfxltUSM4S7"
      },
      "execution_count": null,
      "outputs": []
    },
    {
      "cell_type": "code",
      "source": [
        "xgboost_ypred = xgboost_model.predict(X_test)"
      ],
      "metadata": {
        "id": "IyxwtVSuM7Hr"
      },
      "execution_count": null,
      "outputs": []
    },
    {
      "cell_type": "code",
      "source": [
        "print(\"Accuracy_Score =\"), format(metrics.accuracy_score(Y_test, xgboost_ypred))"
      ],
      "metadata": {
        "id": "blOwX6liNAzg"
      },
      "execution_count": null,
      "outputs": []
    },
    {
      "cell_type": "code",
      "source": [
        "# For the Randome Forest predictive model, Determine which\n",
        "# variable or features influence its performance the most"
      ],
      "metadata": {
        "id": "gfETiZuENMZK"
      },
      "execution_count": null,
      "outputs": []
    },
    {
      "cell_type": "code",
      "source": [
        "# Visualize feature importances"
      ],
      "metadata": {
        "id": "4q-QjlACNXIa"
      },
      "execution_count": null,
      "outputs": []
    },
    {
      "cell_type": "code",
      "source": [
        "(pd.Series(ranfc.feature_importances_, index=X.columns).plot(kind='barh'))\n",
        "plt.title(\"Feature Importances\")\n",
        "plt.xlabel(\"Feature Importances\")"
      ],
      "metadata": {
        "id": "abp_KJ4tNaz5"
      },
      "execution_count": null,
      "outputs": []
    },
    {
      "cell_type": "code",
      "source": [
        "# Above results are consistent with the correlations shown in the above heatmap with the Dependent variable, Y."
      ],
      "metadata": {
        "id": "u9WbD-aWNw6K"
      },
      "execution_count": null,
      "outputs": []
    },
    {
      "cell_type": "markdown",
      "source": [
        "      8. Select the model with the highest accuracy and save it.\n",
        "\n",
        "RandomForest has the highest accuracy (69.8%) followed by Logistic Regression (69.0%), and XGboost (68.3%). However, since the dataset appears to come from a distribution that is not normal, let's adopt and save the RandomForest model (ranfc) for CHD predicitions for new patients, as it not only has the highest accuracy (69.8%), it's also a nonparametric algorithm that does not care whether the data came from normal distribution or not."
      ],
      "metadata": {
        "id": "g6JGsVKtN49_"
      }
    },
    {
      "cell_type": "code",
      "source": [
        "# Import pickle and use the dump() function to save the trained model (ranfc)"
      ],
      "metadata": {
        "id": "byKx1sApOmaU"
      },
      "execution_count": null,
      "outputs": []
    },
    {
      "cell_type": "code",
      "source": [
        "import pickle"
      ],
      "metadata": {
        "id": "U3U43Gk4Os9z"
      },
      "execution_count": null,
      "outputs": []
    },
    {
      "cell_type": "code",
      "source": [
        "saved_model = pickle.dumps(ranfc)"
      ],
      "metadata": {
        "id": "Sci0NQ4HOv4H"
      },
      "execution_count": null,
      "outputs": []
    },
    {
      "cell_type": "code",
      "source": [
        "# Create a storage location, ranfc_from_pickle, to load saved model"
      ],
      "metadata": {
        "id": "4DtCl6zWOzw8"
      },
      "execution_count": null,
      "outputs": []
    },
    {
      "cell_type": "code",
      "source": [
        "ranfc_from_pickle = pickle.loads(saved_model)"
      ],
      "metadata": {
        "id": "4NlWZDYIO5qE"
      },
      "execution_count": null,
      "outputs": []
    },
    {
      "cell_type": "code",
      "source": [
        "ranfc_from_pickle.predict(X_test)"
      ],
      "metadata": {
        "id": "lXyjGZu5O-Po"
      },
      "execution_count": null,
      "outputs": []
    },
    {
      "cell_type": "code",
      "source": [
        "ranfc_from_pickle.predict(X_test)"
      ],
      "metadata": {
        "id": "RKKsEDd7PDNX"
      },
      "execution_count": null,
      "outputs": []
    },
    {
      "cell_type": "code",
      "source": [
        "# Display data that are in the X_test dataset to use for futher testing"
      ],
      "metadata": {
        "id": "VBs1nwbLPKx5"
      },
      "execution_count": null,
      "outputs": []
    },
    {
      "cell_type": "code",
      "source": [
        "X_test"
      ],
      "metadata": {
        "id": "r8XA7y3yPRw8"
      },
      "execution_count": null,
      "outputs": []
    },
    {
      "cell_type": "code",
      "source": [
        "# Each of the above patients has data points for the X variables\n",
        "# Simply type in the data points in the trained and saved model\n",
        "# for specific patient to predict the target or Y"
      ],
      "metadata": {
        "id": "RREawqpBPXxg"
      },
      "execution_count": null,
      "outputs": []
    },
    {
      "cell_type": "code",
      "source": [
        "# Below is an example, for patient #402, type in the data points\n",
        "# in the trained model using the predict functionand see what the output it"
      ],
      "metadata": {
        "id": "rGGK6f23Pn1q"
      },
      "execution_count": null,
      "outputs": []
    },
    {
      "cell_type": "code",
      "source": [
        "ranfc.predict([[162, 6.94, 4.55, 33.36, 1, 52, 27.09, 32.06, 43]]) # for patient #402"
      ],
      "metadata": {
        "id": "TIoeCrh7Pzjr"
      },
      "execution_count": null,
      "outputs": []
    },
    {
      "cell_type": "code",
      "source": [
        "# Above result, 0, means no CHD is predicted for patient #402"
      ],
      "metadata": {
        "id": "DdgfpVGCQDfJ"
      },
      "execution_count": null,
      "outputs": []
    },
    {
      "cell_type": "code",
      "source": [
        "ranfc.predict([[124, 4.20, 2.94, 27.59, 0, 50, 30.31, 85.06, 30]]) # for patient #204"
      ],
      "metadata": {
        "id": "JXwM5R4RQTnV"
      },
      "execution_count": null,
      "outputs": []
    },
    {
      "cell_type": "code",
      "source": [
        "# Above result, 0, means no CHD is predicted for patient #204"
      ],
      "metadata": {
        "id": "gaXvsmTOQjD0"
      },
      "execution_count": null,
      "outputs": []
    },
    {
      "cell_type": "code",
      "source": [
        "# Let's get a prediction for patient #399"
      ],
      "metadata": {
        "id": "x_nP6wT8Qp2m"
      },
      "execution_count": null,
      "outputs": []
    },
    {
      "cell_type": "code",
      "source": [
        "ranfc.predict([[132, 0.00, 6.63, 29.58, 1, 37, 29.41, 2.57, 62]]) # for patient #399"
      ],
      "metadata": {
        "id": "9loqT9ZeQtIL"
      },
      "execution_count": null,
      "outputs": []
    },
    {
      "cell_type": "code",
      "source": [
        "# Above result, 0, means no CHD is predicted for patient #399"
      ],
      "metadata": {
        "id": "L71Vsf7lQ78Q"
      },
      "execution_count": null,
      "outputs": []
    },
    {
      "cell_type": "code",
      "source": [
        "# New patient #1 data: sbp (200) tobacco (13)\n",
        "# ldl (4) adiposity (28.61) famhist (1) typea (12) obesity (19) alcohol (2.06) age (63)"
      ],
      "metadata": {
        "id": "GxIEM-03Q_KK"
      },
      "execution_count": null,
      "outputs": []
    },
    {
      "cell_type": "code",
      "source": [
        "ranfc.predict([[200, 13, 4, 28.61, 1, 12, 19, 2.06, 63]])"
      ],
      "metadata": {
        "id": "fZ0c3nBfRUVB"
      },
      "execution_count": null,
      "outputs": []
    },
    {
      "cell_type": "code",
      "source": [
        "# Above result, 1, means CHD is predicted for this new patient #1"
      ],
      "metadata": {
        "id": "KOL9Nn1qRhqY"
      },
      "execution_count": null,
      "outputs": []
    },
    {
      "cell_type": "code",
      "source": [
        "# For new patient #2, do the same"
      ],
      "metadata": {
        "id": "44jI-3viRo_t"
      },
      "execution_count": null,
      "outputs": []
    },
    {
      "cell_type": "code",
      "source": [
        "# New patient #2 data: sbp (145) tobacco (11)\n",
        "# ldl (5) adiposity (16.2) famhist (0) typea (79) obesity (30) alcohol (2.62) age (38)"
      ],
      "metadata": {
        "id": "R_xOy-tuRvBM"
      },
      "execution_count": null,
      "outputs": []
    },
    {
      "cell_type": "code",
      "source": [
        "# See below trained and saved model and replace ? with the new data\n",
        "# to get a CHD prediction for new patient #2"
      ],
      "metadata": {
        "id": "lOU5MQkER5RX"
      },
      "execution_count": null,
      "outputs": []
    },
    {
      "cell_type": "code",
      "source": [
        "ranfc.predict([[145, 11, 5, 16.2, 0, 79, 30, 2.62, 38]]) # for patient #2"
      ],
      "metadata": {
        "id": "QouBhGO-SFRS"
      },
      "execution_count": null,
      "outputs": []
    },
    {
      "cell_type": "code",
      "source": [
        "# For new patient #3, do the same"
      ],
      "metadata": {
        "id": "fRPkuiSCSSRM"
      },
      "execution_count": null,
      "outputs": []
    },
    {
      "cell_type": "code",
      "source": [
        "# New patient #3 data: sbp (200) tobacco (25)\n",
        "# ldl (2) adiposity (32.27) famhist (0) typea (80) obesity (1) alcohol (56.06) age (60)"
      ],
      "metadata": {
        "id": "yZ7H2rAqSW5w"
      },
      "execution_count": null,
      "outputs": []
    },
    {
      "cell_type": "code",
      "source": [
        "# See below trained and saved model and replace ? with the new data\n",
        "# to get a CHD prediction for new patient #3"
      ],
      "metadata": {
        "id": "_iaK7LQRSj_3"
      },
      "execution_count": null,
      "outputs": []
    },
    {
      "cell_type": "code",
      "source": [
        "ranfc.predict([[200, 25, 2, 32.27, 0, 80, 1, 56.06, 60]]) # for patient #3"
      ],
      "metadata": {
        "id": "F3aXZFfaSnSO"
      },
      "execution_count": null,
      "outputs": []
    },
    {
      "cell_type": "code",
      "source": [
        "# For new patient #4, do the same"
      ],
      "metadata": {
        "id": "HUd9q3DZSzX8"
      },
      "execution_count": null,
      "outputs": []
    },
    {
      "cell_type": "code",
      "source": [
        "# New patient #4 data: sbp (118) tobacco (3)\n",
        "# ldl (2) adiposity (10.05) famhist (1) typea (20) obesity (10) alcohol (0) age (17)"
      ],
      "metadata": {
        "id": "JxY2ufN8S2nj"
      },
      "execution_count": null,
      "outputs": []
    },
    {
      "cell_type": "code",
      "source": [
        "ranfc.predict([[118, 3, 2, 10.05, 1, 20, 10, 0, 17]]) # for patient #4"
      ],
      "metadata": {
        "id": "0fVR8Z-0TBW8"
      },
      "execution_count": null,
      "outputs": []
    },
    {
      "cell_type": "markdown",
      "source": [
        "References\n",
        "\n",
        "scikit-learn developers (2019). 1. Supervised learning - scikit-learn 0.22 documentation. Scikit-Learn.org.\n",
        "\n",
        "Rashidi,...."
      ],
      "metadata": {
        "id": "MYsMmhMFTQCp"
      }
    }
  ]
}